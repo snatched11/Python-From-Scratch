{
 "cells": [
  {
   "cell_type": "code",
   "execution_count": 54,
   "id": "fa443720",
   "metadata": {},
   "outputs": [
    {
     "name": "stdout",
     "output_type": "stream",
     "text": [
      "Enter first number: 20\n",
      "Enter second number: 10\n",
      "20.0 + 10.0 = 30.0\n",
      "20.0 - 10.0 = 10.0\n",
      "20.0 * 10.0 = 200.0\n",
      "20.0 / 10.0 = 2.0\n",
      "\n",
      "End of program\n"
     ]
    }
   ],
   "source": [
    "first = input (\"Enter first number: \")\n",
    "first = float(first)\n",
    "second = float(input (\"Enter second number: \"))\n",
    "\n",
    "print (first, \"+\" , second, '=', first + second)\n",
    "print (first, \"-\", second, '=', first - second)\n",
    "print (first, \"*\", second, '=', first * second)\n",
    "print (first, \"/\", second, '=', first/second)\n",
    "\n",
    "print (\"\\nEnd of program\")"
   ]
  },
  {
   "cell_type": "code",
   "execution_count": null,
   "id": "786f3912",
   "metadata": {},
   "outputs": [],
   "source": []
  },
  {
   "cell_type": "code",
   "execution_count": 49,
   "id": "33adbe66",
   "metadata": {},
   "outputs": [
    {
     "name": "stdout",
     "output_type": "stream",
     "text": [
      "Enter the first student's name: sulav\n",
      "Enter the first student's ID: 1\n",
      "Enter the first student's grade: 90\n",
      "Enter the second student's name: nabin\n",
      "Enter the second student's ID: 2\n",
      "Enter the second student's grade: 80\n",
      "90.0\n"
     ]
    }
   ],
   "source": [
    "first =  input (\"Enter the first student's name: \")\n",
    "f_id =  input (\"Enter the first student's ID: \")\n",
    "f_grade = float (input (\"Enter the first student's grade: \"))\n",
    "\n",
    "second = input (\"Enter the second student's name: \")\n",
    "s_id = input (\"Enter the second student's ID: \")\n",
    "s_grade = float (input (\"Enter the second student's grade: \"))\n"
   ]
  },
  {
   "cell_type": "code",
   "execution_count": 53,
   "id": "5ef97e64",
   "metadata": {},
   "outputs": [
    {
     "name": "stdout",
     "output_type": "stream",
     "text": [
      "Informat for students and their \"Math\" grades\n",
      "('sulav(ID1) got grade :', 90.0)\n",
      "('nabin(ID2) got grade :', 80.0)\n"
     ]
    }
   ],
   "source": [
    "print ('Informat for students and their \"Math\" grades')\n",
    "\n",
    "msg_1 = first + '(ID' + f_id +  ') got grade :' , f_grade\n",
    "print (msg_1)\n",
    "\n",
    "msg_2 = second + '(ID' + s_id + ') got grade :' , s_grade\n",
    "print (msg_2)\n",
    "       "
   ]
  },
  {
   "cell_type": "code",
   "execution_count": null,
   "id": "64b875f6",
   "metadata": {},
   "outputs": [],
   "source": []
  },
  {
   "cell_type": "code",
   "execution_count": 58,
   "id": "cf4bad44",
   "metadata": {},
   "outputs": [
    {
     "name": "stdout",
     "output_type": "stream",
     "text": [
      "1 2 3 4 5 6 \n",
      "12 9\n"
     ]
    }
   ],
   "source": [
    "odd1, even1, odd2, even2, odd3, even3 = map(int, input().split())\n",
    "even_sum = even1 + even2 + even3\n",
    "odd_sum = odd1 + odd2 + odd3\n",
    "\n",
    "print (even_sum, odd_sum)"
   ]
  },
  {
   "cell_type": "code",
   "execution_count": null,
   "id": "38787137",
   "metadata": {},
   "outputs": [],
   "source": []
  }
 ],
 "metadata": {
  "kernelspec": {
   "display_name": "Python 3",
   "language": "python",
   "name": "python3"
  },
  "language_info": {
   "codemirror_mode": {
    "name": "ipython",
    "version": 3
   },
   "file_extension": ".py",
   "mimetype": "text/x-python",
   "name": "python",
   "nbconvert_exporter": "python",
   "pygments_lexer": "ipython3",
   "version": "3.8.8"
  }
 },
 "nbformat": 4,
 "nbformat_minor": 5
}
