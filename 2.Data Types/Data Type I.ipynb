{
 "cells": [
  {
   "cell_type": "markdown",
   "id": "3f0a4c8e",
   "metadata": {},
   "source": [
    "# String manipulation :"
   ]
  },
  {
   "cell_type": "code",
   "execution_count": 1,
   "id": "243b5dc5",
   "metadata": {},
   "outputs": [
    {
     "name": "stdout",
     "output_type": "stream",
     "text": [
      "I am sulav\n"
     ]
    }
   ],
   "source": [
    "print('I am sulav')"
   ]
  },
  {
   "cell_type": "code",
   "execution_count": 2,
   "id": "0b973e91",
   "metadata": {},
   "outputs": [
    {
     "name": "stdout",
     "output_type": "stream",
     "text": [
      "Iamsulav\n"
     ]
    }
   ],
   "source": [
    "print ('I' + 'am' + '' + 'sulav')"
   ]
  },
  {
   "cell_type": "code",
   "execution_count": 3,
   "id": "e1ce6c9e",
   "metadata": {},
   "outputs": [
    {
     "name": "stdout",
     "output_type": "stream",
     "text": [
      " I am sulav\n"
     ]
    }
   ],
   "source": [
    "print (' I am' + ' ' + 'sulav')"
   ]
  },
  {
   "cell_type": "code",
   "execution_count": null,
   "id": "f9ed5053",
   "metadata": {},
   "outputs": [],
   "source": []
  },
  {
   "cell_type": "code",
   "execution_count": 4,
   "id": "bf588238",
   "metadata": {},
   "outputs": [
    {
     "name": "stdout",
     "output_type": "stream",
     "text": [
      "I am sulav\n"
     ]
    }
   ],
   "source": [
    "str1 = 'I am'\n",
    "str2 = ' sulav'\n",
    "print (str1 + str2)"
   ]
  },
  {
   "cell_type": "code",
   "execution_count": 5,
   "id": "c88b265a",
   "metadata": {},
   "outputs": [
    {
     "name": "stdout",
     "output_type": "stream",
     "text": [
      "I amI amI am\n"
     ]
    }
   ],
   "source": [
    "print (str1 * 3)"
   ]
  },
  {
   "cell_type": "code",
   "execution_count": 6,
   "id": "6099f550",
   "metadata": {},
   "outputs": [
    {
     "name": "stdout",
     "output_type": "stream",
     "text": [
      "I amI am sulav\n"
     ]
    }
   ],
   "source": [
    "print (2*str1 + str2)"
   ]
  },
  {
   "cell_type": "code",
   "execution_count": null,
   "id": "1d4c600a",
   "metadata": {},
   "outputs": [],
   "source": []
  },
  {
   "cell_type": "code",
   "execution_count": 7,
   "id": "4b68b20b",
   "metadata": {},
   "outputs": [
    {
     "name": "stdout",
     "output_type": "stream",
     "text": [
      "hello world\n"
     ]
    }
   ],
   "source": [
    "print ('''hello world''')"
   ]
  },
  {
   "cell_type": "code",
   "execution_count": 8,
   "id": "a05e02d9",
   "metadata": {},
   "outputs": [
    {
     "name": "stdout",
     "output_type": "stream",
     "text": [
      "Hey, ladies\n",
      "drop it down. ah\n",
      "sh sh \n"
     ]
    }
   ],
   "source": [
    "print ('''Hey, ladies\n",
    "drop it down. ah\n",
    "sh sh ''')"
   ]
  },
  {
   "cell_type": "code",
   "execution_count": 9,
   "id": "00e41e63",
   "metadata": {},
   "outputs": [
    {
     "name": "stdout",
     "output_type": "stream",
     "text": [
      " let's learn \"a lot\" \n"
     ]
    }
   ],
   "source": [
    "print (\"\"\" let's learn \"a lot\" \"\"\")"
   ]
  },
  {
   "cell_type": "code",
   "execution_count": null,
   "id": "f88bad7d",
   "metadata": {},
   "outputs": [],
   "source": []
  },
  {
   "cell_type": "code",
   "execution_count": null,
   "id": "d14f26cc",
   "metadata": {},
   "outputs": [],
   "source": []
  }
 ],
 "metadata": {
  "kernelspec": {
   "display_name": "Python 3",
   "language": "python",
   "name": "python3"
  },
  "language_info": {
   "codemirror_mode": {
    "name": "ipython",
    "version": 3
   },
   "file_extension": ".py",
   "mimetype": "text/x-python",
   "name": "python",
   "nbconvert_exporter": "python",
   "pygments_lexer": "ipython3",
   "version": "3.8.8"
  }
 },
 "nbformat": 4,
 "nbformat_minor": 5
}
