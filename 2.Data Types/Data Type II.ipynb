{
 "cells": [
  {
   "cell_type": "markdown",
   "id": "9c158518",
   "metadata": {},
   "source": [
    "# Function :"
   ]
  },
  {
   "cell_type": "code",
   "execution_count": 12,
   "id": "c8354c78",
   "metadata": {},
   "outputs": [
    {
     "name": "stdout",
     "output_type": "stream",
     "text": [
      "3\n"
     ]
    }
   ],
   "source": [
    "ans = min (3, 8)\n",
    "print (ans)"
   ]
  },
  {
   "cell_type": "code",
   "execution_count": 13,
   "id": "918bf53f",
   "metadata": {},
   "outputs": [
    {
     "name": "stdout",
     "output_type": "stream",
     "text": [
      "50\n"
     ]
    }
   ],
   "source": [
    "ans = max (2, 50, 15)\n",
    "print(ans)"
   ]
  },
  {
   "cell_type": "code",
   "execution_count": 14,
   "id": "62f78fb8",
   "metadata": {},
   "outputs": [
    {
     "name": "stdout",
     "output_type": "stream",
     "text": [
      "8\n"
     ]
    }
   ],
   "source": [
    "print (max(4, 8))"
   ]
  },
  {
   "cell_type": "code",
   "execution_count": 15,
   "id": "e221db03",
   "metadata": {},
   "outputs": [
    {
     "name": "stdout",
     "output_type": "stream",
     "text": [
      "7\n"
     ]
    }
   ],
   "source": [
    "print (max(4 ,5) + 2)"
   ]
  },
  {
   "cell_type": "code",
   "execution_count": 17,
   "id": "d83efe33",
   "metadata": {},
   "outputs": [
    {
     "name": "stdout",
     "output_type": "stream",
     "text": [
      "5\n"
     ]
    }
   ],
   "source": [
    "str_len = len('sulav')\n",
    "print(str_len)"
   ]
  },
  {
   "cell_type": "markdown",
   "id": "315eb8ad",
   "metadata": {},
   "source": [
    "# Conversion"
   ]
  },
  {
   "cell_type": "code",
   "execution_count": 18,
   "id": "12a94639",
   "metadata": {},
   "outputs": [],
   "source": [
    "str = '10'\n",
    "xint = int(str)\n",
    "xflo = float(str)\n"
   ]
  },
  {
   "cell_type": "code",
   "execution_count": 19,
   "id": "d365deee",
   "metadata": {},
   "outputs": [
    {
     "name": "stdout",
     "output_type": "stream",
     "text": [
      "10 <class 'str'>\n"
     ]
    }
   ],
   "source": [
    "print (str, type(str))"
   ]
  },
  {
   "cell_type": "code",
   "execution_count": 20,
   "id": "fcdb3d8d",
   "metadata": {},
   "outputs": [
    {
     "name": "stdout",
     "output_type": "stream",
     "text": [
      "10 <class 'int'>\n"
     ]
    }
   ],
   "source": [
    "print (xint, type(xint))"
   ]
  },
  {
   "cell_type": "code",
   "execution_count": 21,
   "id": "f0575651",
   "metadata": {},
   "outputs": [
    {
     "name": "stdout",
     "output_type": "stream",
     "text": [
      "10.0 <class 'float'>\n"
     ]
    }
   ],
   "source": [
    "print (xflo, type(xflo))"
   ]
  },
  {
   "cell_type": "code",
   "execution_count": null,
   "id": "c8facaf9",
   "metadata": {},
   "outputs": [],
   "source": []
  }
 ],
 "metadata": {
  "kernelspec": {
   "display_name": "Python 3",
   "language": "python",
   "name": "python3"
  },
  "language_info": {
   "codemirror_mode": {
    "name": "ipython",
    "version": 3
   },
   "file_extension": ".py",
   "mimetype": "text/x-python",
   "name": "python",
   "nbconvert_exporter": "python",
   "pygments_lexer": "ipython3",
   "version": "3.8.8"
  }
 },
 "nbformat": 4,
 "nbformat_minor": 5
}
