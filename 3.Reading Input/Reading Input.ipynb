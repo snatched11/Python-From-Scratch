{
 "cells": [
  {
   "cell_type": "code",
   "execution_count": 1,
   "id": "e960145d",
   "metadata": {},
   "outputs": [
    {
     "name": "stdout",
     "output_type": "stream",
     "text": [
      "sulav\n",
      "sulav\n",
      "<class 'str'>\n"
     ]
    }
   ],
   "source": [
    "str = input()\n",
    "print(str)\n",
    "print(type(str))"
   ]
  },
  {
   "cell_type": "code",
   "execution_count": 2,
   "id": "eab712ea",
   "metadata": {},
   "outputs": [
    {
     "name": "stdout",
     "output_type": "stream",
     "text": [
      "Enter your name: sulav\n",
      "Hello sulav\n"
     ]
    }
   ],
   "source": [
    "str = input('Enter your name: ')\n",
    "print ('Hello ' + str)"
   ]
  },
  {
   "cell_type": "code",
   "execution_count": 3,
   "id": "a4ef2573",
   "metadata": {},
   "outputs": [
    {
     "name": "stdout",
     "output_type": "stream",
     "text": [
      "Enter your name: sulav\n",
      "Hello sulav\n"
     ]
    }
   ],
   "source": [
    "print ( 'Hello ' + input('Enter your name: ') )"
   ]
  },
  {
   "cell_type": "code",
   "execution_count": null,
   "id": "88a529e7",
   "metadata": {},
   "outputs": [],
   "source": []
  },
  {
   "cell_type": "code",
   "execution_count": 4,
   "id": "25b155ce",
   "metadata": {},
   "outputs": [
    {
     "name": "stdout",
     "output_type": "stream",
     "text": [
      "1 2 3\n",
      "1 2 3\n"
     ]
    }
   ],
   "source": [
    "a, b, c = input().split()\n",
    "print (a, b, c)"
   ]
  },
  {
   "cell_type": "code",
   "execution_count": 6,
   "id": "165e5287",
   "metadata": {},
   "outputs": [
    {
     "name": "stdout",
     "output_type": "stream",
     "text": [
      "7 8 9 10\n",
      "8 10\n"
     ]
    }
   ],
   "source": [
    "a, b, c, d = map (int, input().split())\n",
    "print (b, d)"
   ]
  },
  {
   "cell_type": "code",
   "execution_count": 9,
   "id": "0d03c21e",
   "metadata": {},
   "outputs": [
    {
     "name": "stdout",
     "output_type": "stream",
     "text": [
      "enter 5 numbers 1.5 6.7 8.9 4.5 6.8\n",
      "6.7 8.9\n"
     ]
    }
   ],
   "source": [
    "a, b, c, d, e = map (float, input(\"enter 5 numbers \").split())\n",
    "print (b, c)"
   ]
  },
  {
   "cell_type": "code",
   "execution_count": null,
   "id": "49385726",
   "metadata": {},
   "outputs": [],
   "source": []
  }
 ],
 "metadata": {
  "kernelspec": {
   "display_name": "Python 3",
   "language": "python",
   "name": "python3"
  },
  "language_info": {
   "codemirror_mode": {
    "name": "ipython",
    "version": 3
   },
   "file_extension": ".py",
   "mimetype": "text/x-python",
   "name": "python",
   "nbconvert_exporter": "python",
   "pygments_lexer": "ipython3",
   "version": "3.8.8"
  }
 },
 "nbformat": 4,
 "nbformat_minor": 5
}
