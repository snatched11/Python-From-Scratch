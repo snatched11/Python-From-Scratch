{
 "cells": [
  {
   "cell_type": "markdown",
   "id": "4c4336d8",
   "metadata": {},
   "source": [
    "# Flexible reading :"
   ]
  },
  {
   "cell_type": "code",
   "execution_count": 1,
   "id": "4c0e49a7",
   "metadata": {},
   "outputs": [
    {
     "name": "stdout",
     "output_type": "stream",
     "text": [
      "1 2 5 4 7\n",
      "1 2 5 4 7 \n"
     ]
    }
   ],
   "source": [
    "my_lst = input().split() #split return list of string\n",
    "for item in my_lst:\n",
    "    print(item, end = ' ')\n",
    "print()"
   ]
  },
  {
   "cell_type": "code",
   "execution_count": 2,
   "id": "6794b805",
   "metadata": {},
   "outputs": [
    {
     "name": "stdout",
     "output_type": "stream",
     "text": [
      "1 2 3 4 6\n",
      "1 2 3 4 6 \n"
     ]
    }
   ],
   "source": [
    "my_lst = list(map(int , input().split())) #now list of integer\n",
    "for item in my_lst:\n",
    "    print(item, end = ' ')\n",
    "print()"
   ]
  },
  {
   "cell_type": "code",
   "execution_count": 3,
   "id": "e556b4fb",
   "metadata": {},
   "outputs": [
    {
     "name": "stdout",
     "output_type": "stream",
     "text": [
      "<class 'list'>\n",
      "<class 'int'>\n"
     ]
    }
   ],
   "source": [
    "print (type(my_lst))\n",
    "print (type(my_lst[0]))"
   ]
  },
  {
   "cell_type": "code",
   "execution_count": null,
   "id": "5988ff63",
   "metadata": {},
   "outputs": [],
   "source": []
  },
  {
   "cell_type": "markdown",
   "id": "3217f103",
   "metadata": {},
   "source": [
    "# sum, min, max"
   ]
  },
  {
   "cell_type": "code",
   "execution_count": 4,
   "id": "79782830",
   "metadata": {},
   "outputs": [
    {
     "name": "stdout",
     "output_type": "stream",
     "text": [
      "20\n"
     ]
    }
   ],
   "source": [
    "a = [12, 1, 4, 3]\n",
    "print (sum(a))"
   ]
  },
  {
   "cell_type": "code",
   "execution_count": 5,
   "id": "dd780093",
   "metadata": {},
   "outputs": [
    {
     "name": "stdout",
     "output_type": "stream",
     "text": [
      "1 12\n"
     ]
    }
   ],
   "source": [
    "print (min(a), max(a))"
   ]
  },
  {
   "cell_type": "code",
   "execution_count": 7,
   "id": "340bdd87",
   "metadata": {},
   "outputs": [
    {
     "name": "stdout",
     "output_type": "stream",
     "text": [
      "abc sulav\n"
     ]
    }
   ],
   "source": [
    "b = ['abc', 'sulav', 'ojha', 'gun']\n",
    "print(min(b), max(b))"
   ]
  },
  {
   "cell_type": "code",
   "execution_count": null,
   "id": "dfa75fce",
   "metadata": {},
   "outputs": [],
   "source": []
  },
  {
   "cell_type": "markdown",
   "id": "3a65d2de",
   "metadata": {},
   "source": [
    "# enumerate"
   ]
  },
  {
   "cell_type": "code",
   "execution_count": 8,
   "id": "8a72b4e1",
   "metadata": {},
   "outputs": [
    {
     "name": "stdout",
     "output_type": "stream",
     "text": [
      "0 1\n",
      "1 sulav\n",
      "2 5\n"
     ]
    }
   ],
   "source": [
    "my_lst = [1, 'sulav', 5]\n",
    "for idx, item in enumerate(my_lst):\n",
    "    print(idx, item)"
   ]
  },
  {
   "cell_type": "code",
   "execution_count": 9,
   "id": "f6d5372e",
   "metadata": {},
   "outputs": [
    {
     "name": "stdout",
     "output_type": "stream",
     "text": [
      "(0, 5)\n",
      "(1, 6)\n",
      "(2, 7)\n",
      "(3, 8)\n"
     ]
    }
   ],
   "source": [
    "lst = list(enumerate(range(5, 9)))\n",
    "for item in lst:\n",
    "    print(item)"
   ]
  },
  {
   "cell_type": "code",
   "execution_count": null,
   "id": "9b6ef42b",
   "metadata": {},
   "outputs": [],
   "source": []
  },
  {
   "cell_type": "code",
   "execution_count": null,
   "id": "d7efcf4f",
   "metadata": {},
   "outputs": [],
   "source": []
  },
  {
   "cell_type": "code",
   "execution_count": null,
   "id": "d5e2194d",
   "metadata": {},
   "outputs": [],
   "source": []
  }
 ],
 "metadata": {
  "kernelspec": {
   "display_name": "Python 3 (ipykernel)",
   "language": "python",
   "name": "python3"
  },
  "language_info": {
   "codemirror_mode": {
    "name": "ipython",
    "version": 3
   },
   "file_extension": ".py",
   "mimetype": "text/x-python",
   "name": "python",
   "nbconvert_exporter": "python",
   "pygments_lexer": "ipython3",
   "version": "3.11.5"
  }
 },
 "nbformat": 4,
 "nbformat_minor": 5
}
