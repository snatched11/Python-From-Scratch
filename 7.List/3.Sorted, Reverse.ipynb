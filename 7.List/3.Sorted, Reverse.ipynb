{
 "cells": [
  {
   "cell_type": "markdown",
   "id": "2c96276f",
   "metadata": {},
   "source": [
    "# Sort method"
   ]
  },
  {
   "cell_type": "code",
   "execution_count": 1,
   "id": "a153b229",
   "metadata": {},
   "outputs": [
    {
     "data": {
      "text/plain": [
       "[1, 2, 5]"
      ]
     },
     "execution_count": 1,
     "metadata": {},
     "output_type": "execute_result"
    }
   ],
   "source": [
    "a = [ 1, 5, 2]\n",
    "a.sort()\n",
    "a"
   ]
  },
  {
   "cell_type": "code",
   "execution_count": 2,
   "id": "f8965c64",
   "metadata": {},
   "outputs": [
    {
     "data": {
      "text/plain": [
       "[5, 2, 1]"
      ]
     },
     "execution_count": 2,
     "metadata": {},
     "output_type": "execute_result"
    }
   ],
   "source": [
    "a.sort(reverse=True)\n",
    "a"
   ]
  },
  {
   "cell_type": "code",
   "execution_count": 4,
   "id": "34476123",
   "metadata": {},
   "outputs": [
    {
     "ename": "AttributeError",
     "evalue": "'NoneType' object has no attribute 'sort'",
     "output_type": "error",
     "traceback": [
      "\u001b[1;31m---------------------------------------------------------------------------\u001b[0m",
      "\u001b[1;31mAttributeError\u001b[0m                            Traceback (most recent call last)",
      "Cell \u001b[1;32mIn[4], line 2\u001b[0m\n\u001b[0;32m      1\u001b[0m \u001b[38;5;66;03m#Mistake \u001b[39;00m\n\u001b[1;32m----> 2\u001b[0m a \u001b[38;5;241m=\u001b[39m a\u001b[38;5;241m.\u001b[39msort()\n\u001b[0;32m      3\u001b[0m a\n",
      "\u001b[1;31mAttributeError\u001b[0m: 'NoneType' object has no attribute 'sort'"
     ]
    }
   ],
   "source": [
    "#Mistake \n",
    "a = a.sort()\n",
    "a               "
   ]
  },
  {
   "cell_type": "code",
   "execution_count": null,
   "id": "df3eb8c3",
   "metadata": {},
   "outputs": [],
   "source": []
  },
  {
   "cell_type": "markdown",
   "id": "8f0e0a79",
   "metadata": {},
   "source": [
    "# Sorted function"
   ]
  },
  {
   "cell_type": "code",
   "execution_count": 5,
   "id": "0b207550",
   "metadata": {},
   "outputs": [
    {
     "data": {
      "text/plain": [
       "[1, 2, 4, 5]"
      ]
     },
     "execution_count": 5,
     "metadata": {},
     "output_type": "execute_result"
    }
   ],
   "source": [
    "a = [2, 5, 1, 4]\n",
    "a_copy = sorted(a)\n",
    "a_copy"
   ]
  },
  {
   "cell_type": "code",
   "execution_count": 6,
   "id": "63e01c65",
   "metadata": {},
   "outputs": [
    {
     "data": {
      "text/plain": [
       "['a', 'l', 's', 'u', 'v']"
      ]
     },
     "execution_count": 6,
     "metadata": {},
     "output_type": "execute_result"
    }
   ],
   "source": [
    "my_str = 'sulav'\n",
    "new_lst = sorted(my_str)\n",
    "new_lst"
   ]
  },
  {
   "cell_type": "code",
   "execution_count": 7,
   "id": "28a7d810",
   "metadata": {},
   "outputs": [
    {
     "data": {
      "text/plain": [
       "['v', 'u', 's', 'l', 'a']"
      ]
     },
     "execution_count": 7,
     "metadata": {},
     "output_type": "execute_result"
    }
   ],
   "source": [
    "new_lst = sorted(my_str, reverse = True)\n",
    "new_lst"
   ]
  },
  {
   "cell_type": "code",
   "execution_count": null,
   "id": "c75847ca",
   "metadata": {},
   "outputs": [],
   "source": []
  },
  {
   "cell_type": "markdown",
   "id": "ec68655b",
   "metadata": {},
   "source": [
    "# Reverse method"
   ]
  },
  {
   "cell_type": "code",
   "execution_count": 8,
   "id": "2ad59000",
   "metadata": {},
   "outputs": [
    {
     "data": {
      "text/plain": [
       "[4, 5, 2, 1]"
      ]
     },
     "execution_count": 8,
     "metadata": {},
     "output_type": "execute_result"
    }
   ],
   "source": [
    "a = [1, 2, 5 , 4]\n",
    "a.reverse()\n",
    "a"
   ]
  },
  {
   "cell_type": "code",
   "execution_count": 9,
   "id": "c8de9b4d",
   "metadata": {},
   "outputs": [
    {
     "data": {
      "text/plain": [
       "[4, 5, 2, 1, 'sulav']"
      ]
     },
     "execution_count": 9,
     "metadata": {},
     "output_type": "execute_result"
    }
   ],
   "source": [
    "a += ['sulav']\n",
    "a"
   ]
  },
  {
   "cell_type": "code",
   "execution_count": 10,
   "id": "f349a2ce",
   "metadata": {},
   "outputs": [
    {
     "data": {
      "text/plain": [
       "['sulav', 1, 2, 5, 4]"
      ]
     },
     "execution_count": 10,
     "metadata": {},
     "output_type": "execute_result"
    }
   ],
   "source": [
    "a_rev = list(reversed(a))\n",
    "a_rev"
   ]
  },
  {
   "cell_type": "code",
   "execution_count": 11,
   "id": "4aeb6291",
   "metadata": {},
   "outputs": [
    {
     "name": "stdout",
     "output_type": "stream",
     "text": [
      "[4, 5, 2, 1, 'sulav']\n",
      "['sulav', 1, 2, 5, 4]\n"
     ]
    }
   ],
   "source": [
    "a_rev2 = a.copy()\n",
    "print(a_rev2)\n",
    "a_rev2.reverse()\n",
    "print(a_rev2)"
   ]
  },
  {
   "cell_type": "code",
   "execution_count": null,
   "id": "bed37693",
   "metadata": {},
   "outputs": [],
   "source": []
  },
  {
   "cell_type": "code",
   "execution_count": 12,
   "id": "6433f162",
   "metadata": {},
   "outputs": [
    {
     "name": "stdout",
     "output_type": "stream",
     "text": [
      "2 sulav 5 1 \n"
     ]
    }
   ],
   "source": [
    "lst = [1, 5, 'sulav', 2]\n",
    "for idx in range(len(lst) -1 , -1, -1):\n",
    "    print(lst[idx], end =' ')\n",
    "print()"
   ]
  },
  {
   "cell_type": "code",
   "execution_count": 13,
   "id": "396c03d8",
   "metadata": {},
   "outputs": [
    {
     "name": "stdout",
     "output_type": "stream",
     "text": [
      "2 sulav 5 1 \n"
     ]
    }
   ],
   "source": [
    "for item in reversed(lst):   #No copy is created\n",
    "    print (item, end = ' ')\n",
    "print()"
   ]
  },
  {
   "cell_type": "code",
   "execution_count": 14,
   "id": "b5954ba8",
   "metadata": {},
   "outputs": [
    {
     "name": "stdout",
     "output_type": "stream",
     "text": [
      "3 2-2 sulav-1 5-0 1-\n"
     ]
    }
   ],
   "source": [
    "for pos, item in reversed(list(enumerate(lst))):\n",
    "    print (pos, item, end='-')\n",
    "print()"
   ]
  },
  {
   "cell_type": "code",
   "execution_count": null,
   "id": "585af5a2",
   "metadata": {},
   "outputs": [],
   "source": []
  },
  {
   "cell_type": "code",
   "execution_count": null,
   "id": "30bfc915",
   "metadata": {},
   "outputs": [],
   "source": []
  },
  {
   "cell_type": "code",
   "execution_count": null,
   "id": "0b0dbe73",
   "metadata": {},
   "outputs": [],
   "source": []
  },
  {
   "cell_type": "code",
   "execution_count": null,
   "id": "c6c45bc8",
   "metadata": {},
   "outputs": [],
   "source": []
  }
 ],
 "metadata": {
  "kernelspec": {
   "display_name": "Python 3 (ipykernel)",
   "language": "python",
   "name": "python3"
  },
  "language_info": {
   "codemirror_mode": {
    "name": "ipython",
    "version": 3
   },
   "file_extension": ".py",
   "mimetype": "text/x-python",
   "name": "python",
   "nbconvert_exporter": "python",
   "pygments_lexer": "ipython3",
   "version": "3.11.5"
  }
 },
 "nbformat": 4,
 "nbformat_minor": 5
}
