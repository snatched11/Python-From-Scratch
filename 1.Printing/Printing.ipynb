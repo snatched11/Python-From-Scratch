{
 "cells": [
  {
   "cell_type": "code",
   "execution_count": 1,
   "id": "2cf5253b",
   "metadata": {},
   "outputs": [
    {
     "name": "stdout",
     "output_type": "stream",
     "text": [
      "practise makes perfect\n"
     ]
    }
   ],
   "source": [
    "print ('practise', \"makes perfect\")"
   ]
  },
  {
   "cell_type": "code",
   "execution_count": 2,
   "id": "abce2f0a",
   "metadata": {},
   "outputs": [
    {
     "name": "stdout",
     "output_type": "stream",
     "text": [
      "Children must be taught\n",
      " how to think\n",
      " NOT\n",
      " what to think\n"
     ]
    }
   ],
   "source": [
    "print (\"Children must be taught\\n how to think\\n NOT\\n what to think\")"
   ]
  },
  {
   "cell_type": "code",
   "execution_count": 3,
   "id": "37aae89a",
   "metadata": {},
   "outputs": [
    {
     "name": "stdout",
     "output_type": "stream",
     "text": [
      "\"\"\n"
     ]
    }
   ],
   "source": [
    "print (\"\\\"\\\"\")"
   ]
  },
  {
   "cell_type": "code",
   "execution_count": 4,
   "id": "ec535532",
   "metadata": {},
   "outputs": [
    {
     "name": "stdout",
     "output_type": "stream",
     "text": [
      "Print(\"ME\")\n"
     ]
    }
   ],
   "source": [
    "print ('Print(\"ME\")')"
   ]
  },
  {
   "cell_type": "code",
   "execution_count": 5,
   "id": "7d13e162",
   "metadata": {},
   "outputs": [
    {
     "name": "stdout",
     "output_type": "stream",
     "text": [
      "Print('ME')\n"
     ]
    }
   ],
   "source": [
    "print (\"Print('ME')\")"
   ]
  },
  {
   "cell_type": "code",
   "execution_count": 6,
   "id": "33a661f9",
   "metadata": {},
   "outputs": [
    {
     "name": "stdout",
     "output_type": "stream",
     "text": [
      "Print('ME\")\n"
     ]
    }
   ],
   "source": [
    "print (\"Print('ME\\\")\")"
   ]
  },
  {
   "cell_type": "code",
   "execution_count": 7,
   "id": "2ebf5573",
   "metadata": {},
   "outputs": [
    {
     "name": "stdout",
     "output_type": "stream",
     "text": [
      "you will learn \n",
      " a LOT\n"
     ]
    }
   ],
   "source": [
    "print ('you will learn \\n a LOT')"
   ]
  },
  {
   "cell_type": "code",
   "execution_count": 8,
   "id": "4abab0a3",
   "metadata": {},
   "outputs": [
    {
     "name": "stdout",
     "output_type": "stream",
     "text": [
      "*\n",
      "**\n",
      "***\n",
      "****\n",
      "*****\n"
     ]
    }
   ],
   "source": [
    "print ('*')\n",
    "print ('**')\n",
    "print ('***')\n",
    "print ('****')\n",
    "print ('*****')"
   ]
  },
  {
   "cell_type": "code",
   "execution_count": 9,
   "id": "ad2fce08",
   "metadata": {},
   "outputs": [
    {
     "name": "stdout",
     "output_type": "stream",
     "text": [
      "     * \n",
      "    ***\n",
      "   *****\n",
      "  *******\n",
      " *********\n"
     ]
    }
   ],
   "source": [
    "print ('     * ')\n",
    "print ('    ***')\n",
    "print ('   *****')\n",
    "print ('  *******')\n",
    "print (' *********')"
   ]
  },
  {
   "cell_type": "code",
   "execution_count": 10,
   "id": "71da60fc",
   "metadata": {},
   "outputs": [
    {
     "name": "stdout",
     "output_type": "stream",
     "text": [
      "     * \n",
      "    ***\n",
      "   *****\n",
      "  *******\n",
      " *********\n",
      "  *******\n",
      "   *****\n",
      "    ***\n",
      "     * \n"
     ]
    }
   ],
   "source": [
    "print ('     * ')\n",
    "print ('    ***')\n",
    "print ('   *****')\n",
    "print ('  *******')\n",
    "print (' *********')\n",
    "print ('  *******')\n",
    "print ('   *****')\n",
    "print ('    ***')\n",
    "print ('     * ')"
   ]
  },
  {
   "cell_type": "code",
   "execution_count": null,
   "id": "c84181c9",
   "metadata": {},
   "outputs": [],
   "source": []
  },
  {
   "cell_type": "code",
   "execution_count": null,
   "id": "3df4a7bb",
   "metadata": {},
   "outputs": [],
   "source": []
  }
 ],
 "metadata": {
  "kernelspec": {
   "display_name": "Python [conda env:Anaconda3]",
   "language": "python",
   "name": "conda-env-Anaconda3-py"
  },
  "language_info": {
   "codemirror_mode": {
    "name": "ipython",
    "version": 3
   },
   "file_extension": ".py",
   "mimetype": "text/x-python",
   "name": "python",
   "nbconvert_exporter": "python",
   "pygments_lexer": "ipython3",
   "version": "3.8.8"
  }
 },
 "nbformat": 4,
 "nbformat_minor": 5
}
